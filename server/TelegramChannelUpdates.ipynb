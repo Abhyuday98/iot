{
 "cells": [
  {
   "cell_type": "code",
   "execution_count": 4,
   "metadata": {},
   "outputs": [],
   "source": [
    "import pymysql\n",
    "from sqlalchemy import create_engine\n",
    "from sqlalchemy.sql import text\n",
    "import time\n",
    "import requests"
   ]
  },
  {
   "cell_type": "code",
   "execution_count": 5,
   "metadata": {},
   "outputs": [],
   "source": [
    "thresholds = {\n",
    "    '1' : 8,\n",
    "    '2' : 8,\n",
    "    '3' : 11,\n",
    "    '4' : 10\n",
    "\n",
    "}\n",
    "telegramMessage = {\n",
    "    '1': 'Female toilet: \\nCubicle 4\\nToilet paper dispenser is empty',\n",
    "    '2': 'Female toilet: \\nCubicle 4\\nToilet paper dispenser is empty',\n",
    "    '3': 'Female toilet: \\nTrash bin is full',\n",
    "    '4': 'Female toilet: \\nCubicle 4\\nSanitary bin is full',\n",
    "}\n"
   ]
  },
  {
   "cell_type": "code",
   "execution_count": 3,
   "metadata": {},
   "outputs": [],
   "source": [
    "\n",
    "#set Telegram channel Url\n",
    "telegramURL = \"https://api.telegram.org/bot733055974:AAEsyKoq3z5mquv0k_xmzugu_dej_1MbdtA/sendMessage?chat_id=-1001267215209&parse_mode=Markdown&text=\"\n",
    "\n",
    "\n",
    "#set datebase configuration Code\n",
    "database_settings = { \"username\": \"admin\",\n",
    "                     \"password\": \"abhyuday98\",\n",
    "                     \"ip_address\":\"iotg5.ccspnys1uzca.us-east-1.rds.amazonaws.com\",\n",
    "                     \"port\": \"3306\",\n",
    "                     \"database_name\": \"iotg5\"\n",
    "                            }\n",
    "engine = create_engine('mysql+pymysql://{}:{}@{}:{}/{}'.format(database_settings['username'],\n",
    "                                                                              database_settings['password'],\n",
    "                                                                              database_settings['ip_address'],\n",
    "                                                                              database_settings['port'],\n",
    "                                                                              database_settings['database_name']\n",
    "                                                                              ))\n",
    "# Time\n",
    "setTimeThreshold = 15"
   ]
  },
  {
   "cell_type": "code",
   "execution_count": null,
   "metadata": {},
   "outputs": [
    {
     "name": "stdout",
     "output_type": "stream",
     "text": [
      "62\n",
      "54\n",
      "60\n"
     ]
    }
   ],
   "source": [
    "while True:\n",
    "    with engine.connect() as con:\n",
    "        statement = text(\"call dbInactivityOverMinutes({})\".format(setTimeThreshold))\n",
    "        resultArray = con.execute(statement)\n",
    "        for row in resultArray:\n",
    "            print(row['tpCount'])\n",
    "#             firstAndLastRecordOverXMinutesForToiletPaper\n",
    "            if float(row['tpCount'])>0:\n",
    "                statement = text(\"call firstAndLastRecordOverXMinutesForToiletPaper({})\".format(setTimeThreshold))\n",
    "                tpArrayArray = con.execute(statement)\n",
    "                sendTopupUpdateOnTelegramForToiletPaper(tpArrayArray)\n",
    "            else:\n",
    "                sendTelegramMessage(\"Female toilet: \\nCubicle 4\\nToilet paper dispenser \\nSensor is down\")\n",
    "            if float(row['bin1Count'])>0:\n",
    "                statement = text(\"call firstAndLastRecordOverXMinutesForLitterBin1({})\".format(setTimeThreshold))\n",
    "                tpArrayArray = con.execute(statement)\n",
    "                sendTopupUpdateOnTelegramForLitterBin(tpArrayArray,'3')\n",
    "            else:\n",
    "                sendTelegramMessage( \"Female toilet: \\nTrash bin \\nSensor is down\")\n",
    "            if float(row['bin2Count'])>0:\n",
    "                statement = text(\"call firstAndLastRecordOverXMinutesForLitterBin2({})\".format(setTimeThreshold))\n",
    "                tpArrayArray = con.execute(statement)\n",
    "                sendTopupUpdateOnTelegramForLitterBin(tpArrayArray,'4')\n",
    "            else:\n",
    "                sendTelegramMessage(\"Female toilet: \\nCubicle 4\\nSanitary bin \\nSensor is down\")\n",
    "            \n",
    "            print(row['bin1Count'])\n",
    "            print(row['bin2Count'])\n",
    "\n",
    "\n",
    "    time.sleep(900)"
   ]
  }
 ],
 "metadata": {
  "kernelspec": {
   "display_name": "Python 3",
   "language": "python",
   "name": "python3"
  },
  "language_info": {
   "codemirror_mode": {
    "name": "ipython",
    "version": 3
   },
   "file_extension": ".py",
   "mimetype": "text/x-python",
   "name": "python",
   "nbconvert_exporter": "python",
   "pygments_lexer": "ipython3",
   "version": "3.8.3"
  }
 },
 "nbformat": 4,
 "nbformat_minor": 4
}